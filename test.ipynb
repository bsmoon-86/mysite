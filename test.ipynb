{
 "cells": [
  {
   "cell_type": "code",
   "execution_count": 1,
   "id": "6d49dd85",
   "metadata": {},
   "outputs": [],
   "source": [
    "from pykrx import stock"
   ]
  },
  {
   "cell_type": "code",
   "execution_count": 2,
   "id": "3385b1c6",
   "metadata": {},
   "outputs": [],
   "source": [
    "def name_to_ticker(name: str, market: str = \"KOSPI\") -> str:\n",
    "    tickers = stock.get_market_ticker_list(market=market)\n",
    "    for ticker in tickers:\n",
    "        if stock.get_market_ticker_name(ticker) == name:\n",
    "            return ticker\n",
    "    return None"
   ]
  },
  {
   "cell_type": "code",
   "execution_count": 3,
   "id": "253d720b",
   "metadata": {},
   "outputs": [],
   "source": [
    "ticker_code = name_to_ticker(\"삼성전자\")"
   ]
  },
  {
   "cell_type": "code",
   "execution_count": 4,
   "id": "39e77bef",
   "metadata": {},
   "outputs": [
    {
     "data": {
      "text/plain": [
       "'005930'"
      ]
     },
     "execution_count": 4,
     "metadata": {},
     "output_type": "execute_result"
    }
   ],
   "source": [
    "ticker_code"
   ]
  },
  {
   "cell_type": "code",
   "execution_count": 5,
   "id": "9171e76e",
   "metadata": {},
   "outputs": [
    {
     "name": "stdout",
     "output_type": "stream",
     "text": [
      "               시가     고가     저가     종가       거래량       등락률\n",
      "날짜                                                        \n",
      "2024-06-03  74400  76400  74200  75700  15706268  2.993197\n",
      "2024-06-04  74900  76100  74900  75300  14098053 -0.528402\n",
      "2024-06-05  78000  78000  76800  77400  23177968  2.788845\n",
      "2024-06-07  78400  78600  77100  77300  21189349 -0.129199\n",
      "2024-06-10  76100  76600  75600  75700  14598755 -2.069858\n"
     ]
    }
   ],
   "source": [
    "if ticker_code:\n",
    "    df = stock.get_market_ohlcv_by_date(\"20240601\", \"20240621\", ticker_code)\n",
    "    print(df.head())\n",
    "else:\n",
    "    print(\"종목을 찾을 수 없습니다.\")"
   ]
  },
  {
   "cell_type": "code",
   "execution_count": null,
   "id": "a5c45649",
   "metadata": {},
   "outputs": [],
   "source": []
  }
 ],
 "metadata": {
  "kernelspec": {
   "display_name": "Python 3",
   "language": "python",
   "name": "python3"
  },
  "language_info": {
   "codemirror_mode": {
    "name": "ipython",
    "version": 3
   },
   "file_extension": ".py",
   "mimetype": "text/x-python",
   "name": "python",
   "nbconvert_exporter": "python",
   "pygments_lexer": "ipython3",
   "version": "3.11.8"
  }
 },
 "nbformat": 4,
 "nbformat_minor": 5
}
